{
 "cells": [
  {
   "cell_type": "code",
   "execution_count": 2,
   "metadata": {},
   "outputs": [
    {
     "name": "stdout",
     "output_type": "stream",
     "text": [
      "짝수\n"
     ]
    }
   ],
   "source": [
    "n = 20\n",
    "if n%2 == 0:\n",
    "    print('짝수')"
   ]
  },
  {
   "cell_type": "code",
   "execution_count": 3,
   "metadata": {},
   "outputs": [],
   "source": [
    "n = 21\n",
    "if n%2 == 0:\n",
    "    print('짝수')"
   ]
  },
  {
   "cell_type": "code",
   "execution_count": 4,
   "metadata": {},
   "outputs": [
    {
     "name": "stdout",
     "output_type": "stream",
     "text": [
      "미성년자\n"
     ]
    }
   ],
   "source": [
    "age = 18\n",
    "if age >= 20:\n",
    "    print('성인')\n",
    "else:\n",
    "    print('미성년자')"
   ]
  },
  {
   "cell_type": "code",
   "execution_count": 5,
   "metadata": {},
   "outputs": [
    {
     "name": "stdout",
     "output_type": "stream",
     "text": [
      "성인\n"
     ]
    }
   ],
   "source": [
    "age = 21\n",
    "if age >= 20:\n",
    "    print('성인')\n",
    "else:\n",
    "    print('미성년자')"
   ]
  },
  {
   "cell_type": "code",
   "execution_count": 6,
   "metadata": {},
   "outputs": [
    {
     "name": "stdout",
     "output_type": "stream",
     "text": [
      "미성년자\n"
     ]
    }
   ],
   "source": [
    "age = 18\n",
    "s = '성인' if age >= 20 else '미성년자'\n",
    "print(s)"
   ]
  },
  {
   "cell_type": "code",
   "execution_count": 7,
   "metadata": {},
   "outputs": [
    {
     "name": "stdout",
     "output_type": "stream",
     "text": [
      "성인\n"
     ]
    }
   ],
   "source": [
    "age = 20\n",
    "s = '성인' if age >= 20 else '미성년자'\n",
    "print(s)"
   ]
  },
  {
   "cell_type": "code",
   "execution_count": 8,
   "metadata": {},
   "outputs": [
    {
     "name": "stdout",
     "output_type": "stream",
     "text": [
      "A\n"
     ]
    }
   ],
   "source": [
    "point = 92\n",
    "if (90 <= point):\n",
    "    print('A')\n",
    "elif (80 <= point):\n",
    "    print('B')\n",
    "elif (70 <= point):\n",
    "    print('C')\n",
    "elif (60 <= point):\n",
    "    print('D')\n",
    "else:\n",
    "    print('F')"
   ]
  },
  {
   "cell_type": "code",
   "execution_count": 9,
   "metadata": {},
   "outputs": [
    {
     "name": "stdout",
     "output_type": "stream",
     "text": [
      "D\n"
     ]
    }
   ],
   "source": [
    "point = 62\n",
    "if (90 <= point):\n",
    "    print('A')\n",
    "elif (80 <= point):\n",
    "    print('B')\n",
    "elif (70 <= point):\n",
    "    print('C')\n",
    "elif (60 <= point):\n",
    "    print('D')\n",
    "else:\n",
    "    print('F')"
   ]
  },
  {
   "cell_type": "code",
   "execution_count": 10,
   "metadata": {},
   "outputs": [
    {
     "name": "stdout",
     "output_type": "stream",
     "text": [
      "사과\n"
     ]
    }
   ],
   "source": [
    "value = \"apple\"\n",
    "match value:\n",
    "    case 'apple':\n",
    "        result = \"사과\"\n",
    "    case 'banana':\n",
    "        result = \"바나나\"\n",
    "\n",
    "print(result)"
   ]
  },
  {
   "cell_type": "code",
   "execution_count": 11,
   "metadata": {},
   "outputs": [
    {
     "name": "stdout",
     "output_type": "stream",
     "text": [
      "바나나\n"
     ]
    }
   ],
   "source": [
    "value = \"banana\"\n",
    "match value:\n",
    "    case 'apple':\n",
    "        result = \"사과\"\n",
    "    case 'banana':\n",
    "        result = \"바나나\"\n",
    "\n",
    "print(result)"
   ]
  },
  {
   "cell_type": "code",
   "execution_count": 12,
   "metadata": {},
   "outputs": [
    {
     "name": "stdout",
     "output_type": "stream",
     "text": [
      "None\n"
     ]
    }
   ],
   "source": [
    "value = \"mango\"\n",
    "match value:\n",
    "    case 'apple':\n",
    "        result = \"사과\"\n",
    "    case 'banana':\n",
    "        result = \"바나나\"\n",
    "    case _:\n",
    "        result = None\n",
    "\n",
    "print(result)"
   ]
  }
 ],
 "metadata": {
  "kernelspec": {
   "display_name": "Python 3",
   "language": "python",
   "name": "python3"
  },
  "language_info": {
   "codemirror_mode": {
    "name": "ipython",
    "version": 3
   },
   "file_extension": ".py",
   "mimetype": "text/x-python",
   "name": "python",
   "nbconvert_exporter": "python",
   "pygments_lexer": "ipython3",
   "version": "3.11.9"
  }
 },
 "nbformat": 4,
 "nbformat_minor": 2
}
