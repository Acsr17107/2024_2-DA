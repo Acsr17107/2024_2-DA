{
 "cells": [
  {
   "cell_type": "code",
   "execution_count": 12,
   "id": "306a8bac",
   "metadata": {},
   "outputs": [],
   "source": [
    "# comments"
   ]
  },
  {
   "cell_type": "code",
   "execution_count": null,
   "id": "bac05ed3",
   "metadata": {},
   "outputs": [],
   "source": [
    "3.4 # numeric literals"
   ]
  },
  {
   "cell_type": "code",
   "execution_count": null,
   "id": "def21c94",
   "metadata": {},
   "outputs": [],
   "source": [
    "7L"
   ]
  },
  {
   "cell_type": "code",
   "execution_count": null,
   "id": "a93988db",
   "metadata": {},
   "outputs": [],
   "source": [
    "-5 4.5"
   ]
  },
  {
   "cell_type": "code",
   "execution_count": null,
   "id": "a43df0a0",
   "metadata": {},
   "outputs": [],
   "source": [
    "10, -3"
   ]
  },
  {
   "cell_type": "code",
   "execution_count": null,
   "id": "e8440684",
   "metadata": {},
   "outputs": [],
   "source": [
    "# variable\n",
    "a = 3 # assign value to variable a\n",
    "a"
   ]
  },
  {
   "cell_type": "code",
   "execution_count": null,
   "id": "c099eac9",
   "metadata": {},
   "outputs": [],
   "source": [
    "m, n = 10, 20\n",
    "print(m, n)"
   ]
  },
  {
   "cell_type": "code",
   "execution_count": null,
   "id": "619bfc00",
   "metadata": {},
   "outputs": [],
   "source": [
    "m, n = n, m\n",
    "print(m, n)"
   ]
  },
  {
   "cell_type": "code",
   "execution_count": null,
   "id": "4a264efa",
   "metadata": {},
   "outputs": [],
   "source": [
    "# var name\n",
    "age = 19\n",
    "age"
   ]
  },
  {
   "cell_type": "code",
   "execution_count": null,
   "id": "16f84805",
   "metadata": {},
   "outputs": [],
   "source": [
    "my_age = 20\n",
    "my_age"
   ]
  },
  {
   "cell_type": "code",
   "execution_count": null,
   "id": "52d5c7f0",
   "metadata": {},
   "outputs": [],
   "source": [
    "_height = 172.3\n",
    "_height"
   ]
  },
  {
   "cell_type": "code",
   "execution_count": null,
   "id": "ac0f2401",
   "metadata": {},
   "outputs": [],
   "source": [
    "_26asian = 2026 # 첫_이후에 바로 숫자 사용 가능\n",
    "_26asian"
   ]
  },
  {
   "cell_type": "code",
   "execution_count": null,
   "id": "46e30d63",
   "metadata": {},
   "outputs": [],
   "source": [
    "# 잘못된 변수\n",
    "26worldcup = 2026 # 수가 맨 먼저 위치하면 에러"
   ]
  },
  {
   "cell_type": "code",
   "execution_count": null,
   "id": "3d8743db",
   "metadata": {},
   "outputs": [],
   "source": [
    "my.age = 21     # .은 사용하면 에러"
   ]
  },
  {
   "cell_type": "code",
   "execution_count": null,
   "id": "9bb61e4f",
   "metadata": {},
   "outputs": [],
   "source": [
    "my credits = 18    # 공백 문자 등 다른 문자 사용하면 에러"
   ]
  }
 ],
 "metadata": {},
 "nbformat": 4,
 "nbformat_minor": 5
}
